{
 "cells": [
  {
   "cell_type": "markdown",
   "metadata": {},
   "source": [
    "# Introduction\n",
    "\n",
    "In this notebook, I want to reproduce (and more importantly, annotate) what Austin Rochford did in his [Bayesian Survival Analysis](https://austinrochford.com/posts/2015-10-05-bayes-survival.html) notebook on his own blog.\n",
    "\n",
    "\n",
    "## Setup\n",
    "\n",
    "In this dataset, we will analyze breast cancer patients who have undergone masectomy."
   ]
  },
  {
   "cell_type": "code",
   "execution_count": null,
   "metadata": {},
   "outputs": [],
   "source": [
    "import pymc3 as pm\n",
    "import matplotlib.pyplot as plt\n",
    "import numpy as np\n",
    "from statsmodels import datasets\n",
    "import seaborn as sns\n",
    "import theano.tensor as T\n",
    "\n",
    "%load_ext autoreload\n",
    "%autoreload 2\n",
    "%matplotlib inline\n",
    "%config InlineBackend.figure_format = 'retina'"
   ]
  },
  {
   "cell_type": "markdown",
   "metadata": {},
   "source": [
    "First off, we load in the dataset."
   ]
  },
  {
   "cell_type": "code",
   "execution_count": null,
   "metadata": {},
   "outputs": [],
   "source": [
    "df = datasets.get_rdataset(\"mastectomy\", \"HSAUR\", cache=True).data\n",
    "df.sample(5)"
   ]
  },
  {
   "cell_type": "markdown",
   "metadata": {},
   "source": [
    "Inspecting what it looks like, it should be:\n",
    "\n",
    "- Each row is one patient.\n",
    "- For each patient, we record:\n",
    "    - Time elapsed since masectomy (`time` column)\n",
    "    - Whether they have died (`event` column)\n",
    "    - Whether a metastasis has occcurred (`metastasized` column)"
   ]
  },
  {
   "cell_type": "markdown",
   "metadata": {},
   "source": [
    "In order to get the data into shape for computing, we will need to do some data preprocessing. \n",
    "\n",
    "- Convert `event` to 1/0, where `1` maps to `True`.\n",
    "- Convert `metastasized` to 1/0, where `1` maps to `yes`."
   ]
  },
  {
   "cell_type": "code",
   "execution_count": null,
   "metadata": {},
   "outputs": [],
   "source": [
    "df[\"event\"] = df[\"event\"].astype(int)\n",
    "df[\"metastized\"] = df[\"metastized\"].replace(\"yes\", 1).replace(\"no\", 0).astype(int)\n",
    "df.head(5)"
   ]
  },
  {
   "cell_type": "markdown",
   "metadata": {},
   "source": [
    "From Austin's blog post:\n",
    "\n",
    "> A suitable prior on ${\\lambda}_{0}(t)$ is less obvious. We choose a semiparametric prior, where ${\\lambda}_{0}(t)$ is a piecewise constant function. This prior requires us to partition the time range in question into intervals with endpoints $0≤s_{1}<s_{2}<⋯<s_{N}$. With this partition, ${\\lambda}_{0}(t)={\\lambda}_{j}$ if $s_{j}≤t<s_{j}+1$. With ${\\lambda}_{0}(t)$ constrained to have this form, all we need to do is choose priors for the $N−1$ values ${\\lambda}_{j}$. We use independent vague priors ${\\lambda}_{j}\\sim Gamma(10^{−2},10^{2})$. For our mastectomy example, we make each interval three months long."
   ]
  },
  {
   "cell_type": "code",
   "execution_count": null,
   "metadata": {},
   "outputs": [],
   "source": [
    "interval_length = 3\n",
    "interval_bounds = np.arange(0, df.time.max() + interval_length + 1, interval_length)\n",
    "n_intervals = interval_bounds.size - 1\n",
    "intervals = np.arange(n_intervals)\n",
    "intervals"
   ]
  },
  {
   "cell_type": "code",
   "execution_count": null,
   "metadata": {},
   "outputs": [],
   "source": [
    "n_patients = len(df)\n",
    "patients = np.arange(n_patients)\n",
    "\n",
    "last_period = np.floor((df.time - 0.01) / interval_length)\n",
    "\n",
    "death = np.zeros((n_patients, n_intervals))\n",
    "death[patients.astype(int), last_period.values.astype(int)] = df.event.values\n",
    "sns.heatmap(death)"
   ]
  },
  {
   "cell_type": "markdown",
   "metadata": {},
   "source": [
    "Aha! This matrix tells us which patients have died and when. Each row is one patient, each column is a time period, and a `1` (white) indicates that a patient died in that time period."
   ]
  },
  {
   "cell_type": "code",
   "execution_count": null,
   "metadata": {},
   "outputs": [],
   "source": [
    "exposure = (\n",
    "    np.greater_equal.outer(df.time.values, interval_bounds[:-1]) * interval_length\n",
    ")\n",
    "exposure[patients, last_period.values.astype(int)] = (\n",
    "    df.time - interval_bounds[last_period.values.astype(int)]\n",
    ")\n",
    "sns.heatmap(exposure)"
   ]
  },
  {
   "cell_type": "markdown",
   "metadata": {},
   "source": [
    "This heatmap tells us the time of exposure of a patient. Exposure is defined by whether they are exposed to a risk of dying or not. A patient is at risk of exposure if they have not died, up till the time they die (the non-censored patients) or the time that they have survived (the censored patients)."
   ]
  },
  {
   "cell_type": "code",
   "execution_count": null,
   "metadata": {},
   "outputs": [],
   "source": [
    "with pm.Model() as model:\n",
    "    lambda0 = pm.Gamma(\"lambda0\", 0.01, 0.01, shape=n_intervals)\n",
    "\n",
    "    sigma = pm.Uniform(\"sigma\", 0.0, 10.0)\n",
    "    tau = pm.Deterministic(\"tau\", sigma ** -2)\n",
    "    mu_beta = pm.Normal(\"mu_beta\", 0.0, 10 ** -2)\n",
    "    beta = pm.Normal(\"beta\", mu_beta, tau)\n",
    "\n",
    "    lambda_ = pm.Deterministic(\"lambda_\", T.outer(T.exp(beta * df.metastized), lambda0))\n",
    "    mu = pm.Deterministic(\"mu\", exposure * lambda_)\n",
    "\n",
    "    obs = pm.Poisson(\"obs\", mu, observed=death)"
   ]
  },
  {
   "cell_type": "code",
   "execution_count": null,
   "metadata": {},
   "outputs": [],
   "source": [
    "with model:\n",
    "    trace = pm.sample(2000, njobs=1)"
   ]
  },
  {
   "cell_type": "code",
   "execution_count": null,
   "metadata": {},
   "outputs": [],
   "source": [
    "pm.traceplot(trace, varnames=[\"beta\"])"
   ]
  },
  {
   "cell_type": "code",
   "execution_count": null,
   "metadata": {},
   "outputs": [],
   "source": [
    "base_hazard = trace[\"lambda0\"]\n",
    "met_hazard = trace[\"lambda0\"] * np.exp(np.atleast_2d(trace[\"beta\"]).T)"
   ]
  },
  {
   "cell_type": "code",
   "execution_count": null,
   "metadata": {},
   "outputs": [],
   "source": [
    "def cum_hazard(hazard):\n",
    "    \"\"\"\n",
    "    Cumulative hazard is the cumulative sum of the \n",
    "    interval length * hazard at each time interval.\n",
    "    \"\"\"\n",
    "    return (interval_length * hazard).cumsum(axis=-1)\n",
    "\n",
    "\n",
    "def survival(hazard):\n",
    "    \"\"\"\n",
    "    Survival is the exponent of the negative cumulative hazard.\n",
    "    \"\"\"\n",
    "    return np.exp(-cum_hazard(hazard))"
   ]
  },
  {
   "cell_type": "code",
   "execution_count": null,
   "metadata": {},
   "outputs": [],
   "source": [
    "sns.heatmap(cum_hazard(met_hazard).T)"
   ]
  },
  {
   "cell_type": "code",
   "execution_count": null,
   "metadata": {},
   "outputs": [],
   "source": [
    "with pm.Model() as time_varying_model:\n",
    "    lambda0 = pm.Gamma(\"lambda0\", 0.01, 0.01, shape=n_intervals)\n",
    "\n",
    "    # The key is here: if we want a parameter to vary with time, then making it follow a\n",
    "    # Gaussian random walk is one way of doing so.\n",
    "    beta = pm.GaussianRandomWalk(\"beta\", tau=1.0, shape=n_intervals)\n",
    "\n",
    "    lambda_ = pm.Deterministic(\n",
    "        \"h\", lambda0 * T.exp(T.outer(T.constant(df.metastized), beta))\n",
    "    )\n",
    "    mu = pm.Deterministic(\"mu\", exposure * lambda_)\n",
    "\n",
    "    obs = pm.Poisson(\"obs\", mu, observed=death)"
   ]
  },
  {
   "cell_type": "code",
   "execution_count": null,
   "metadata": {},
   "outputs": [],
   "source": [
    "with time_varying_model:\n",
    "    trace_varying = pm.sample(2000, njobs=1)"
   ]
  },
  {
   "cell_type": "markdown",
   "metadata": {},
   "source": [
    "NUTS sampling of both of these models has been really slow. I'm not quite sure how to debug this."
   ]
  },
  {
   "cell_type": "code",
   "execution_count": null,
   "metadata": {},
   "outputs": [],
   "source": [
    "pm.traceplot(trace_varying, varnames=[\"beta\"])"
   ]
  },
  {
   "cell_type": "code",
   "execution_count": null,
   "metadata": {},
   "outputs": [],
   "source": [
    "trace_varying[\"beta\"].shape"
   ]
  },
  {
   "cell_type": "code",
   "execution_count": null,
   "metadata": {},
   "outputs": [],
   "source": [
    "fig = plt.figure()\n",
    "ax = fig.add_subplot(111)\n",
    "\n",
    "beta_hpd = np.percentile(trace_varying[\"beta\"], [2.5, 97.5], axis=0)\n",
    "beta_low = beta_hpd[0]\n",
    "beta_high = beta_hpd[1]\n",
    "ax.fill_between(interval_bounds[:-1], beta_low, beta_high, color=\"blue\", alpha=0.25)\n",
    "beta_hat = trace_varying[\"beta\"].mean(axis=0)\n",
    "ax.step(interval_bounds[:-1], beta_hat, color=\"blue\")"
   ]
  },
  {
   "cell_type": "code",
   "execution_count": null,
   "metadata": {},
   "outputs": [],
   "source": []
  }
 ],
 "metadata": {
  "kernelspec": {
   "display_name": "bayesian",
   "language": "python",
   "name": "bayesian"
  },
  "language_info": {
   "codemirror_mode": {
    "name": "ipython",
    "version": 3
   },
   "file_extension": ".py",
   "mimetype": "text/x-python",
   "name": "python",
   "nbconvert_exporter": "python",
   "pygments_lexer": "ipython3",
   "version": "3.6.6"
  }
 },
 "nbformat": 4,
 "nbformat_minor": 2
}

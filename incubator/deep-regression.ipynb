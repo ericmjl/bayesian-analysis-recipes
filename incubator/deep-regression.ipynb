{
 "cells": [
  {
   "cell_type": "code",
   "execution_count": null,
   "metadata": {},
   "outputs": [],
   "source": [
    "import pymc3 as pm\n",
    "import matplotlib.pyplot as plt\n",
    "import pandas as pd\n",
    "import numpy as np\n",
    "import theano.tensor as tt\n",
    "import theano\n",
    "\n",
    "%load_ext autoreload\n",
    "%autoreload 2\n",
    "%matplotlib inline\n",
    "%config InlineBackend.figure_format = 'retina'"
   ]
  },
  {
   "cell_type": "code",
   "execution_count": null,
   "metadata": {},
   "outputs": [],
   "source": [
    "df = pd.read_csv(\"../datasets/bikes/hour.csv\")\n",
    "df\n",
    "\n",
    "feature_cols = [\"workingday\", \"holiday\", \"temp\", \"atemp\", \"hum\", \"windspeed\"]\n",
    "out_col = [\"cnt\"]\n",
    "df[out_col]"
   ]
  },
  {
   "cell_type": "code",
   "execution_count": null,
   "metadata": {},
   "outputs": [],
   "source": [
    "X = pm.floatX(df[feature_cols])\n",
    "Y = pm.floatX(df[out_col].apply(np.log10))\n",
    "n_hidden = X.shape[1]\n",
    "\n",
    "with pm.Model() as nn_model:\n",
    "    w1 = pm.Normal(\"w1\", mu=0, sd=1, shape=(X.shape[1], n_hidden))\n",
    "    w2 = pm.Normal(\"w2\", mu=0, sd=1, shape=(n_hidden, 1))\n",
    "\n",
    "    b1 = pm.Normal(\"b1\", mu=0, sd=1, shape=(n_hidden,))\n",
    "    b2 = pm.Normal(\"b2\", mu=0, sd=1, shape=(1,))\n",
    "\n",
    "    a1 = pm.Deterministic(\"a1\", tt.nnet.relu(tt.dot(X, w1) + b1))\n",
    "    a2 = pm.Deterministic(\"a2\", tt.dot(a1, w2) + b2)\n",
    "\n",
    "    output = pm.Normal(\"likelihood\", mu=a2, observed=Y)"
   ]
  },
  {
   "cell_type": "code",
   "execution_count": null,
   "metadata": {},
   "outputs": [],
   "source": [
    "with pm.Model() as three_layer_model:\n",
    "    w1 = pm.Normal(\"w1\", mu=0, sd=1, shape=(X.shape[1], n_hidden))\n",
    "    w2 = pm.Normal(\"w2\", mu=0, sd=1, shape=(n_hidden, n_hidden))\n",
    "    w3 = pm.Normal(\"w3\", mu=0, sd=1, shape=(n_hidden, 1))\n",
    "\n",
    "    b1 = pm.Normal(\"b1\", mu=0, sd=1, shape=(n_hidden,))\n",
    "    b2 = pm.Normal(\"b2\", mu=0, sd=1, shape=(n_hidden,))\n",
    "    b3 = pm.Normal(\"b3\", mu=0, sd=1, shape=(1,))\n",
    "\n",
    "    a1 = pm.Deterministic(\"a1\", tt.nnet.relu(tt.dot(X, w1) + b1))\n",
    "    a2 = pm.Deterministic(\"a2\", tt.nnet.relu(tt.dot(a1, w2) + b2))\n",
    "    a3 = pm.Deterministic(\"a3\", tt.dot(a2, w3) + b3)\n",
    "\n",
    "    sd = pm.HalfCauchy(\"sd\", beta=1)\n",
    "\n",
    "    output = pm.Normal(\"likelihood\", mu=a3, sd=sd, observed=Y)"
   ]
  },
  {
   "cell_type": "code",
   "execution_count": null,
   "metadata": {},
   "outputs": [],
   "source": [
    "with pm.Model() as linreg_model:\n",
    "    w1 = pm.Normal(\"w1\", mu=0, sd=1, shape=(X.shape[1], 1))\n",
    "    b1 = pm.Normal(\"b1\", mu=0, sd=1, shape=(1,))\n",
    "    a1 = pm.Deterministic(\"a1\", tt.dot(X, w1) + b1)\n",
    "\n",
    "    sd = pm.HalfCauchy(\"sd\", beta=1)\n",
    "\n",
    "    output = pm.Normal(\"likelihood\", mu=a1, sd=sd, observed=Y)"
   ]
  },
  {
   "cell_type": "code",
   "execution_count": null,
   "metadata": {},
   "outputs": [],
   "source": [
    "with linreg_model:\n",
    "    s = theano.shared(pm.floatX(1.1))\n",
    "    inference = pm.ADVI(cost_part_grad_scale=s, learning_rate=0.01)\n",
    "    approx = pm.fit(200000, method=inference)"
   ]
  },
  {
   "cell_type": "code",
   "execution_count": null,
   "metadata": {},
   "outputs": [],
   "source": [
    "plt.plot(inference.hist)"
   ]
  },
  {
   "cell_type": "code",
   "execution_count": null,
   "metadata": {},
   "outputs": [],
   "source": [
    "with linreg_model:\n",
    "    trace = approx.sample(2000)"
   ]
  },
  {
   "cell_type": "code",
   "execution_count": null,
   "metadata": {},
   "outputs": [],
   "source": [
    "pm.traceplot(trace, varnames=[\"w1\", \"b1\"])"
   ]
  },
  {
   "cell_type": "code",
   "execution_count": null,
   "metadata": {},
   "outputs": [],
   "source": [
    "with linreg_model:\n",
    "    samps = pm.sample_ppc(trace)"
   ]
  },
  {
   "cell_type": "code",
   "execution_count": null,
   "metadata": {},
   "outputs": [],
   "source": [
    "samps[\"likelihood\"].std(axis=0)"
   ]
  },
  {
   "cell_type": "code",
   "execution_count": null,
   "metadata": {},
   "outputs": [],
   "source": [
    "samps[\"likelihood\"].mean(axis=0)"
   ]
  },
  {
   "cell_type": "code",
   "execution_count": null,
   "metadata": {},
   "outputs": [],
   "source": [
    "from sklearn.metrics import mean_squared_error as mse\n",
    "\n",
    "mse(Y, samps[\"likelihood\"].mean(axis=0))"
   ]
  },
  {
   "cell_type": "code",
   "execution_count": null,
   "metadata": {},
   "outputs": [],
   "source": [
    "plt.scatter(samps[\"likelihood\"].mean(axis=0).squeeze(), Y.values)"
   ]
  },
  {
   "cell_type": "code",
   "execution_count": null,
   "metadata": {},
   "outputs": [],
   "source": []
  }
 ],
 "metadata": {
  "kernelspec": {
   "display_name": "bayesian",
   "language": "python",
   "name": "bayesian"
  },
  "language_info": {
   "codemirror_mode": {
    "name": "ipython",
    "version": 3
   },
   "file_extension": ".py",
   "mimetype": "text/x-python",
   "name": "python",
   "nbconvert_exporter": "python",
   "pygments_lexer": "ipython3",
   "version": "3.6.6"
  }
 },
 "nbformat": 4,
 "nbformat_minor": 2
}

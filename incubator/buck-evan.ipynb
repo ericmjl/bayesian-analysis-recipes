{
 "cells": [
  {
   "cell_type": "code",
   "execution_count": null,
   "metadata": {},
   "outputs": [],
   "source": [
    "import pymc3 as pm\n",
    "import numpy as np\n",
    "import matplotlib.pyplot as plt\n",
    "\n",
    "\n",
    "%load_ext autoreload\n",
    "%autoreload 2\n",
    "%matplotlib inline\n",
    "%config InlineBackend.figure_format = 'retina'"
   ]
  },
  {
   "cell_type": "code",
   "execution_count": null,
   "metadata": {},
   "outputs": [],
   "source": [
    "# Data\n",
    "k_known = 30\n",
    "theta_known = 5\n",
    "alpha_known = k_known\n",
    "beta_known = 1 / theta_known\n",
    "data_sample_size = 5\n",
    "data = np.random.gamma(shape=k_known, scale=theta_known, size=data_sample_size)\n",
    "data"
   ]
  },
  {
   "cell_type": "code",
   "execution_count": null,
   "metadata": {},
   "outputs": [],
   "source": [
    "full_distribution = np.random.gamma(k_known, theta_known, size=10000)\n",
    "plt.hist(full_distribution)"
   ]
  },
  {
   "cell_type": "code",
   "execution_count": null,
   "metadata": {},
   "outputs": [],
   "source": [
    "with pm.Model() as buck_problem:\n",
    "    k = pm.HalfCauchy(\"k\", 100 ** 2)\n",
    "    # theta = pm.HalfCauchy('theta', 100**2)\n",
    "\n",
    "    beta = pm.HalfCauchy(\"beta\", 100 ** 2)\n",
    "    likelihood = pm.Gamma(\"like\", alpha=k, beta=beta, observed=data)\n",
    "    theta = pm.Deterministic(\"theta\", 1 / beta)"
   ]
  },
  {
   "cell_type": "code",
   "execution_count": null,
   "metadata": {},
   "outputs": [],
   "source": [
    "with buck_problem:\n",
    "    trace = pm.sample(10000)"
   ]
  },
  {
   "cell_type": "code",
   "execution_count": null,
   "metadata": {},
   "outputs": [],
   "source": [
    "with buck_problem:\n",
    "    pm.traceplot(trace[1000:])"
   ]
  },
  {
   "cell_type": "code",
   "execution_count": null,
   "metadata": {},
   "outputs": [],
   "source": [
    "with buck_problem:\n",
    "    pm.plot_posterior(trace[1000:])"
   ]
  },
  {
   "cell_type": "code",
   "execution_count": null,
   "metadata": {},
   "outputs": [],
   "source": [
    "plt.scatter(trace[\"k\"], trace[\"theta\"])"
   ]
  },
  {
   "cell_type": "code",
   "execution_count": null,
   "metadata": {},
   "outputs": [],
   "source": [
    "import seaborn as sns"
   ]
  },
  {
   "cell_type": "code",
   "execution_count": null,
   "metadata": {},
   "outputs": [],
   "source": [
    "sns.jointplot(trace[\"k\"], trace[\"theta\"])"
   ]
  }
 ],
 "metadata": {
  "kernelspec": {
   "display_name": "Environment (conda_bayesian)",
   "language": "python",
   "name": "conda_bayesian"
  },
  "language_info": {
   "codemirror_mode": {
    "name": "ipython",
    "version": 3
   },
   "file_extension": ".py",
   "mimetype": "text/x-python",
   "name": "python",
   "nbconvert_exporter": "python",
   "pygments_lexer": "ipython3",
   "version": "3.6.1"
  }
 },
 "nbformat": 4,
 "nbformat_minor": 2
}

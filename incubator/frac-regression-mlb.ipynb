{
 "cells": [
  {
   "cell_type": "code",
   "execution_count": null,
   "metadata": {},
   "outputs": [],
   "source": [
    "import pandas as pd\n",
    "import numpy as np\n",
    "import matplotlib.pyplot as plt\n",
    "import pymc3 as pm\n",
    "\n",
    "%matplotlib inline"
   ]
  },
  {
   "cell_type": "code",
   "execution_count": null,
   "metadata": {},
   "outputs": [],
   "source": [
    "df = pd.read_csv('datasets/mlb_2013-2016.csv')\n",
    "df.head()"
   ]
  },
  {
   "cell_type": "code",
   "execution_count": null,
   "metadata": {},
   "outputs": [],
   "source": [
    "df.plot(kind='scatter', x='R', y='Winning %')"
   ]
  },
  {
   "cell_type": "code",
   "execution_count": null,
   "metadata": {},
   "outputs": [],
   "source": [
    "import seaborn as sns"
   ]
  },
  {
   "cell_type": "code",
   "execution_count": null,
   "metadata": {},
   "outputs": [],
   "source": [
    "# df.plot(kind='scatter', x='Season', y='Team Salary')\n",
    "sns.violinplot(x='Season', y='Team Salary', data=df)"
   ]
  },
  {
   "cell_type": "code",
   "execution_count": null,
   "metadata": {},
   "outputs": [],
   "source": [
    "df.columns"
   ]
  },
  {
   "cell_type": "code",
   "execution_count": null,
   "metadata": {},
   "outputs": [],
   "source": [
    "# Let's predict 'Winning %' from the rest of the columns.\n",
    "cols = list(df.columns)\n",
    "cols.remove('Season')\n",
    "cols.remove('Team')\n",
    "cols.remove('Team Salary (in millions)')\n",
    "cols.remove('League')\n",
    "cols.remove('Wins')\n",
    "cols.remove('Losses')\n",
    "\n",
    "banned = ['Winning %', 'Wins', 'Losses']\n",
    "y_cols = ['Winning %']\n",
    "feat_cols = list(set(cols) - set(y_cols) - set(banned))\n"
   ]
  },
  {
   "cell_type": "code",
   "execution_count": null,
   "metadata": {},
   "outputs": [],
   "source": [
    "from sklearn.ensemble import RandomForestRegressor\n",
    "\n",
    "rfr = RandomForestRegressor(n_estimators=50)\n",
    "\n",
    "rfr.fit(df[feat_cols], df[y_cols])\n",
    "plt.plot(rfr.feature_importances_)"
   ]
  },
  {
   "cell_type": "code",
   "execution_count": null,
   "metadata": {},
   "outputs": [],
   "source": [
    "important_cols = []\n",
    "threshold = 0.03\n",
    "impt_idxs = [i for i, k in enumerate(rfr.feature_importances_) if k > threshold]\n",
    "for i in impt_idxs:\n",
    "    important_cols.append(feat_cols[i])\n",
    "important_cols"
   ]
  },
  {
   "cell_type": "code",
   "execution_count": null,
   "metadata": {},
   "outputs": [],
   "source": [
    "import theano.tensor as tt\n",
    "with pm.Model() as model:\n",
    "    weights = pm.Normal('weights', mu=0, sd=100**2, shape=(len(important_cols),))\n",
    "    perc_losses = tt.dot(weights, df[important_cols].T)\n",
    "    # weights = pm.Normal('weights', mu=0, sd=100**2, shape=(2,))\n",
    "    # perc_losses = weights[0] * df['Team Salary'] + weights[1] * df['R']\n",
    "    alpha = 1\n",
    "    beta = 1 / perc_losses\n",
    "    sd = pm.HalfCauchy('sd', beta=100)\n",
    "    # like = pm.Beta('likelihood', alpha=alpha, beta=beta, observed=df[y_cols])\n",
    "    like = pm.Normal('likelihood', mu=perc_losses, sd=sd, observed=df[y_cols])\n",
    "    # like = pm.Beta('likelihood', mu=perc_losses, sd=sd, observed=df[y_cols])\n",
    "    # like = pm.Bernoulli('likelihood', p=perc_losses, observed=df[y_cols])"
   ]
  },
  {
   "cell_type": "code",
   "execution_count": null,
   "metadata": {},
   "outputs": [],
   "source": [
    "with model:\n",
    "    trace = pm.sample(50000, step=pm.Metropolis())"
   ]
  },
  {
   "cell_type": "code",
   "execution_count": null,
   "metadata": {},
   "outputs": [],
   "source": [
    "pm.traceplot(trace)"
   ]
  },
  {
   "cell_type": "code",
   "execution_count": null,
   "metadata": {},
   "outputs": [],
   "source": [
    "burnin = 30000\n",
    "pm.traceplot(trace[burnin:])"
   ]
  },
  {
   "cell_type": "code",
   "execution_count": null,
   "metadata": {},
   "outputs": [],
   "source": []
  }
 ],
 "metadata": {
  "kernelspec": {
   "display_name": "bayesian",
   "language": "python",
   "name": "bayesian"
  },
  "language_info": {
   "codemirror_mode": {
    "name": "ipython",
    "version": 3
   },
   "file_extension": ".py",
   "mimetype": "text/x-python",
   "name": "python",
   "nbconvert_exporter": "python",
   "pygments_lexer": "ipython3",
   "version": "3.6.3"
  }
 },
 "nbformat": 4,
 "nbformat_minor": 2
}

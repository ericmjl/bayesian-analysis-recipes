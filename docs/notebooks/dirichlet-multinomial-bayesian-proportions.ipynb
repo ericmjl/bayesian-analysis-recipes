{
 "cells": [
  {
   "cell_type": "code",
   "execution_count": null,
   "metadata": {},
   "outputs": [],
   "source": [
    "import numpy as np\n",
    "import pandas as pd\n",
    "import matplotlib.pyplot as plt\n",
    "import pymc3 as pm\n",
    "import numpy.random as npr\n",
    "\n",
    "%load_ext autoreload\n",
    "%autoreload 2\n",
    "%matplotlib inline\n",
    "%config InlineBackend.figure_format = 'retina'"
   ]
  },
  {
   "cell_type": "markdown",
   "metadata": {},
   "source": [
    "# Introduction\n",
    "\n",
    "Let's say there are three bacteria species that characterize the gut, and we hypothesize that they are ever so shifted off from one another, but we don't know how (i.e. ignore the data-generating distribution below). Can we figure out the proportion parameters and their uncertainty?\n",
    "\n",
    "# Generate Synthetic Data\n",
    "\n",
    "In the synthetic dataset generated below, we pretend that every patient is one sample, and we are recording the number of sequencing reads corresponding to some OTUs (bacteria). Each row is one sample (patient), and each column is one OTU (sample).\n",
    "\n",
    "## Proportions\n",
    "\n",
    "Firstly, let's generate the ground truth proportions that we will infer later on."
   ]
  },
  {
   "cell_type": "code",
   "execution_count": null,
   "metadata": {},
   "outputs": [],
   "source": [
    "def proportion(arr):\n",
    "    arr = np.asarray(arr)\n",
    "    return arr / arr.sum()\n",
    "\n",
    "\n",
    "healthy_proportions = proportion([10, 16, 2])\n",
    "healthy_proportions"
   ]
  },
  {
   "cell_type": "code",
   "execution_count": null,
   "metadata": {},
   "outputs": [],
   "source": [
    "sick_proportions = proportion([10, 27, 15])\n",
    "sick_proportions"
   ]
  },
  {
   "cell_type": "markdown",
   "metadata": {},
   "source": [
    "## Data\n",
    "\n",
    "Now, given the proportions, let's generate data. Here, we are assuming that there are 10 patients per cohort (10 sick patients and 10 healthy patients), and that the number of counts in total is 50."
   ]
  },
  {
   "cell_type": "code",
   "execution_count": null,
   "metadata": {},
   "outputs": [],
   "source": [
    "n_data_points = 10\n",
    "\n",
    "\n",
    "def make_healthy_multinomial(arr):\n",
    "    n_sequencing_reads = 50  # npr.poisson(lam=50)\n",
    "    return npr.multinomial(n_sequencing_reads, healthy_proportions)\n",
    "\n",
    "\n",
    "def make_sick_multinomial(arr):\n",
    "    n_sequencing_reads = 50  # npr.poisson(lam=50)\n",
    "    return npr.multinomial(n_sequencing_reads, sick_proportions)\n",
    "\n",
    "\n",
    "# Generate healthy data\n",
    "healthy_reads = np.zeros((n_data_points, 3))\n",
    "healthy_reads = np.apply_along_axis(make_healthy_multinomial, axis=1, arr=healthy_reads)\n",
    "\n",
    "# Generate sick reads\n",
    "sick_reads = np.zeros((n_data_points, 3))\n",
    "sick_reads = np.apply_along_axis(make_sick_multinomial, axis=1, arr=sick_reads)"
   ]
  },
  {
   "cell_type": "code",
   "execution_count": null,
   "metadata": {},
   "outputs": [],
   "source": [
    "# Make pandas dataframe\n",
    "healthy_df = pd.DataFrame(healthy_reads)\n",
    "healthy_df.columns = [\"bacteria1\", \"bacteria2\", \"bacteria3\"]\n",
    "healthy_df = pm.floatX(healthy_df)\n",
    "\n",
    "sick_df = pd.DataFrame(sick_reads)\n",
    "sick_df.columns = [\"bacteria1\", \"bacteria2\", \"bacteria3\"]\n",
    "sick_df = pm.floatX(sick_df)"
   ]
  },
  {
   "cell_type": "code",
   "execution_count": null,
   "metadata": {},
   "outputs": [],
   "source": [
    "healthy_df.dtypes"
   ]
  },
  {
   "cell_type": "code",
   "execution_count": null,
   "metadata": {},
   "outputs": [],
   "source": [
    "sick_df.dtypes"
   ]
  },
  {
   "cell_type": "markdown",
   "metadata": {},
   "source": [
    "# Model Construction\n",
    "\n",
    "Here's an implementation of the model - Dirichlet prior with Multinomial likelihood.\n",
    "\n",
    "There are 3 classes of bacteria, so the Dirichlet distribution serves as the prior probability mass over each of the classes in the multinomial distribution.\n",
    "\n",
    "The multinomial distribution serves as the likelihood function."
   ]
  },
  {
   "cell_type": "code",
   "execution_count": null,
   "metadata": {},
   "outputs": [],
   "source": [
    "with pm.Model() as dirichlet_model:\n",
    "    proportions_healthy = pm.Dirichlet(\n",
    "        \"proportions_healthy\",\n",
    "        a=np.array([1.0] * 3).astype(\"float32\"),\n",
    "        shape=(3,),\n",
    "        testval=[0.1, 0.1, 0.1],\n",
    "    )\n",
    "    proportions_sick = pm.Dirichlet(\n",
    "        \"proportions_sick\",\n",
    "        a=np.array([1.0] * 3).astype(\"float32\"),\n",
    "        shape=(3,),\n",
    "        testval=[0.1, 0.1, 0.1],\n",
    "    )\n",
    "    healthy_like = pm.Multinomial(\n",
    "        \"like_healthy\", n=50, p=proportions_healthy, observed=healthy_df.values\n",
    "    )\n",
    "    sick_like = pm.Multinomial(\n",
    "        \"like_sick\", n=50, p=proportions_sick, observed=sick_df.values\n",
    "    )"
   ]
  },
  {
   "cell_type": "markdown",
   "metadata": {},
   "source": [
    "## Sampling"
   ]
  },
  {
   "cell_type": "code",
   "execution_count": null,
   "metadata": {},
   "outputs": [],
   "source": [
    "with dirichlet_model:\n",
    "    dirichlet_trace = pm.sample(draws=10000, start=pm.find_MAP(), step=pm.Metropolis())\n",
    "    pm.traceplot(dirichlet_trace)"
   ]
  },
  {
   "cell_type": "markdown",
   "metadata": {},
   "source": [
    "# Results"
   ]
  },
  {
   "cell_type": "code",
   "execution_count": null,
   "metadata": {},
   "outputs": [],
   "source": [
    "pm.forestplot(\n",
    "    dirichlet_trace,\n",
    "    ylabels=[\n",
    "        \"healthy_bacteria1\",\n",
    "        \"healthy_bacteria2\",\n",
    "        \"healthy_bacteria3\",\n",
    "        \"sick_bacteria1\",\n",
    "        \"sick_bacteria2\",\n",
    "        \"sick_bacteria3\",\n",
    "    ],\n",
    ")"
   ]
  },
  {
   "cell_type": "code",
   "execution_count": null,
   "metadata": {},
   "outputs": [],
   "source": [
    "healthy_proportions, sick_proportions"
   ]
  },
  {
   "cell_type": "markdown",
   "metadata": {},
   "source": [
    "They match up with the original synthetic percentages!"
   ]
  }
 ],
 "metadata": {
  "kernelspec": {
   "display_name": "bayesian",
   "language": "python",
   "name": "bayesian"
  },
  "language_info": {
   "codemirror_mode": {
    "name": "ipython",
    "version": 3
   },
   "file_extension": ".py",
   "mimetype": "text/x-python",
   "name": "python",
   "nbconvert_exporter": "python",
   "pygments_lexer": "ipython3",
   "version": "3.6.6"
  },
  "toc": {
   "colors": {
    "hover_highlight": "#DAA520",
    "navigate_num": "#000000",
    "navigate_text": "#333333",
    "running_highlight": "#FF0000",
    "selected_highlight": "#FFD700",
    "sidebar_border": "#EEEEEE",
    "wrapper_background": "#FFFFFF"
   },
   "moveMenuLeft": true,
   "nav_menu": {
    "height": "12px",
    "width": "252px"
   },
   "navigate_menu": true,
   "number_sections": true,
   "sideBar": true,
   "threshold": 4,
   "toc_cell": false,
   "toc_section_display": "block",
   "toc_window_display": true,
   "widenNotebook": false
  }
 },
 "nbformat": 4,
 "nbformat_minor": 2
}

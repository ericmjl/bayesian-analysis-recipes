{
 "cells": [
  {
   "cell_type": "code",
   "execution_count": null,
   "metadata": {},
   "outputs": [],
   "source": [
    "import pymc3 as pm\n",
    "import numpy as np\n",
    "import matplotlib.pyplot as plt\n",
    "\n",
    "%load_ext autoreload\n",
    "%autoreload 2\n",
    "%matplotlib inline\n",
    "%config InlineBackend.figure_format = 'retina'"
   ]
  },
  {
   "cell_type": "markdown",
   "metadata": {},
   "source": [
    "# Purpose\n",
    "\n",
    "Just testing my intuition w.r.t. degrees of freedom in the students T distribution.\n",
    "\n",
    "- Cauchy: df = 1.\n",
    "- Normal: df = infinity (or at least some really high number)\n",
    "\n",
    "This should be reflected when using PyMC3."
   ]
  },
  {
   "cell_type": "code",
   "execution_count": null,
   "metadata": {},
   "outputs": [],
   "source": [
    "normal = np.random.normal(size=20000)\n",
    "cauchy = np.random.standard_cauchy(size=20000)"
   ]
  },
  {
   "cell_type": "code",
   "execution_count": null,
   "metadata": {},
   "outputs": [],
   "source": [
    "with pm.Model() as normal_model:\n",
    "    mu = pm.Normal(\"mu\", mu=0, sd=100)\n",
    "    sd = pm.HalfNormal(\"sd\", sd=100)\n",
    "    nu = pm.Exponential(\"nu\", lam=0.5)\n",
    "    like = pm.StudentT(\"like\", mu=mu, sd=sd, nu=nu, observed=normal)\n",
    "\n",
    "    trace = pm.sample(2000)"
   ]
  },
  {
   "cell_type": "code",
   "execution_count": null,
   "metadata": {},
   "outputs": [],
   "source": [
    "pm.traceplot(trace)"
   ]
  },
  {
   "cell_type": "markdown",
   "metadata": {},
   "source": [
    "Many degrees of freedom for normal distribution. Makes sense."
   ]
  },
  {
   "cell_type": "code",
   "execution_count": null,
   "metadata": {},
   "outputs": [],
   "source": [
    "with pm.Model() as cauchy_model:\n",
    "    mu = pm.Normal(\"mu\", mu=0, sd=100)\n",
    "    sd = pm.HalfNormal(\"sd\", sd=100)\n",
    "    nu = pm.Exponential(\"nu\", lam=1)\n",
    "    like = pm.StudentT(\"like\", mu=mu, sd=sd, nu=nu, observed=cauchy)\n",
    "\n",
    "    trace = pm.sample(2000)"
   ]
  },
  {
   "cell_type": "code",
   "execution_count": null,
   "metadata": {},
   "outputs": [],
   "source": [
    "pm.traceplot(trace)"
   ]
  },
  {
   "cell_type": "markdown",
   "metadata": {},
   "source": [
    "Yes :)"
   ]
  },
  {
   "cell_type": "code",
   "execution_count": null,
   "metadata": {},
   "outputs": [],
   "source": []
  }
 ],
 "metadata": {
  "kernelspec": {
   "display_name": "bayesian",
   "language": "python",
   "name": "bayesian"
  },
  "language_info": {
   "codemirror_mode": {
    "name": "ipython",
    "version": 3
   },
   "file_extension": ".py",
   "mimetype": "text/x-python",
   "name": "python",
   "nbconvert_exporter": "python",
   "pygments_lexer": "ipython3",
   "version": "3.6.6"
  }
 },
 "nbformat": 4,
 "nbformat_minor": 2
}

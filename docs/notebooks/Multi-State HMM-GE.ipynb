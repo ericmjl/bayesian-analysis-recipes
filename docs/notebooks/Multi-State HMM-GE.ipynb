{
 "cells": [
  {
   "cell_type": "code",
   "execution_count": null,
   "metadata": {},
   "outputs": [],
   "source": [
    "%matplotlib inline\n",
    "import numpy as np\n",
    "import matplotlib.pyplot as plt\n",
    "import theano.tensor as tt\n",
    "import theano"
   ]
  },
  {
   "cell_type": "code",
   "execution_count": null,
   "metadata": {
    "jupyter": {
     "outputs_hidden": false
    }
   },
   "outputs": [],
   "source": [
    "P=np.array([[0.8,0.1,0.1],[0.05,0.9,0.05],[0.15,0.15,0.7]])\n",
    "P"
   ]
  },
  {
   "cell_type": "code",
   "execution_count": null,
   "metadata": {},
   "outputs": [],
   "source": [
    "def unconditionalProbability(Ptrans):\n",
    "   \"\"\"Compute the unconditional probability for the states of a\n",
    "   Markov chain.\"\"\"\n",
    "\n",
    "   m = Ptrans.shape[0]\n",
    "\n",
    "   P = np.column_stack((Ptrans, 1. - Ptrans.sum(axis=1)))\n",
    "\n",
    "   I = np.eye(m)\n",
    "   U = np.ones((m, m))\n",
    "   u = np.ones(m)\n",
    "\n",
    "   return np.linalg.solve((I - P + U).T, u)\n"
   ]
  },
  {
   "cell_type": "code",
   "execution_count": null,
   "metadata": {
    "jupyter": {
     "outputs_hidden": false
    }
   },
   "outputs": [],
   "source": [
    "# equilibrium probabilities\n",
    "PU = unconditionalProbability(P[:,:-1])\n",
    "print(PU)"
   ]
  },
  {
   "cell_type": "code",
   "execution_count": null,
   "metadata": {
    "jupyter": {
     "outputs_hidden": false
    }
   },
   "outputs": [],
   "source": [
    "Pt=P[:,:-1]\n",
    "print(1. - Pt.sum(axis=1))\n",
    "print(np.concatenate((Pt.T,[1. - Pt.sum(axis=1)])).T)"
   ]
  },
  {
   "cell_type": "code",
   "execution_count": null,
   "metadata": {
    "jupyter": {
     "outputs_hidden": false
    }
   },
   "outputs": [],
   "source": [
    "# create a sample\n",
    "firstpoint = np.random.choice(3, 1, p=PU)\n",
    "print(firstpoint)\n",
    "sample = [firstpoint[0]]\n",
    "for i in range(1,1000):\n",
    "    sample = np.concatenate((sample,np.random.choice(3,1,p=P[sample[-1]])))"
   ]
  },
  {
   "cell_type": "code",
   "execution_count": null,
   "metadata": {
    "jupyter": {
     "outputs_hidden": false
    }
   },
   "outputs": [],
   "source": [
    "# plt.hist(sample, normed=True)"
   ]
  },
  {
   "cell_type": "code",
   "execution_count": null,
   "metadata": {
    "jupyter": {
     "outputs_hidden": false
    }
   },
   "outputs": [],
   "source": [
    "plt.plot(sample[:1000], drawstyle='steps-mid')\n",
    "plt.ylim((-0.2,2.2))"
   ]
  },
  {
   "cell_type": "code",
   "execution_count": null,
   "metadata": {
    "jupyter": {
     "outputs_hidden": false
    }
   },
   "outputs": [],
   "source": [
    "measurement = sample + 0.1*np.random.randn(1000)\n",
    "plt.plot(measurement[:100])\n",
    "plt.plot(sample[:100], drawstyle='steps-mid')"
   ]
  },
  {
   "cell_type": "code",
   "execution_count": null,
   "metadata": {
    "jupyter": {
     "outputs_hidden": false
    }
   },
   "outputs": [],
   "source": [
    "import pymc3 as pm\n",
    "import theano.tensor as tt\n",
    "import theano.tensor.slinalg as sla\n",
    "import theano.tensor.nlinalg as nla\n",
    "# Two state model for simplicity.\n",
    "N_states = 3\n",
    "N_chain = len(sample)\n",
    "\n",
    "# Transition probability stochastic\n",
    "theta = np.ones((N_states,N_states)) + 1.\n",
    "alphaA = np.ones(N_states)*2.1\n",
    "betaA = np.ones(N_states)*1.1\n",
    "alphaS = np.ones(N_states)*2.1\n",
    "betaS = np.ones(N_states)*1.1"
   ]
  },
  {
   "cell_type": "code",
   "execution_count": null,
   "metadata": {
    "jupyter": {
     "outputs_hidden": false
    }
   },
   "outputs": [],
   "source": [
    "class HMMStatesN(pm.Categorical):\n",
    "    \"\"\"\n",
    "    Hidden Markov Model States\n",
    "    Parameters\n",
    "    ----------\n",
    "    P : tensor\n",
    "        transition probability\n",
    "        shape = (N_states,N_states)\n",
    "        \n",
    "    PA : tensor\n",
    "         equilibrium probabilities\n",
    "         shape = (N_states)\n",
    "    \n",
    "    \"\"\"\n",
    "\n",
    "    def __init__(self, PA=None, P=None, N_states=2,\n",
    "                 *args, **kwargs):\n",
    "        super(pm.Categorical, self).__init__(*args, **kwargs)\n",
    "        self.P = P\n",
    "        self.PA = PA\n",
    "        self.k = N_states\n",
    "        self.mode = tt.cast(0,dtype='int64')\n",
    "\n",
    "    def logp(self, x):\n",
    "        P = self.P\n",
    "        PA = self.PA\n",
    "        \n",
    "        # calculate equilibrium\n",
    "        \n",
    "        # now we need to create an array with probabilities\n",
    "        # so that for x=A: PA=P1, PB=(1-P1)\n",
    "        # and for x=B: PA=P2, PB=(1-P2)\n",
    "        #P = tt.switch(x[:-1],P1,P2)\n",
    "        \n",
    "        PS = P[x[:-1]]\n",
    "                \n",
    "        x_i = x[1:]\n",
    "        ou_like = pm.Categorical.dist(PS).logp(x_i)\n",
    "        return pm.Categorical.dist(PA).logp(x[0]) + tt.sum(ou_like)\n"
   ]
  },
  {
   "cell_type": "code",
   "execution_count": null,
   "metadata": {},
   "outputs": [],
   "source": [
    "class HMMGaussianEmissionsN(pm.Continuous):\n",
    "    \"\"\"\n",
    "    Hidden Markov Model Gaussian Emissions\n",
    "    Parameters\n",
    "    ----------\n",
    "    A : tensor\n",
    "        prior for Gaussian emission mu\n",
    "        shape = (2,N_states)\n",
    "        \n",
    "    S : tensor\n",
    "        prior for Gaussian emission width\n",
    "        shape = (2,N_states)\n",
    "    \n",
    "    states : tensor\n",
    "         equilibrium probabilities\n",
    "         shape = (N_states)\n",
    "    \n",
    "    \"\"\"\n",
    "\n",
    "    def __init__(self, A=None, S=None, states=None,\n",
    "                 *args, **kwargs):\n",
    "        super(HMMGaussianEmissionsN, self).__init__(*args, **kwargs)\n",
    "        self.A = A\n",
    "        self.S = S\n",
    "        self.states = states\n",
    "        self.mean = 0.\n",
    "\n",
    "    def logp(self, x):\n",
    "        A = self.A\n",
    "        S = self.S\n",
    "        states = self.states\n",
    "        \n",
    "        AS = A[states]        \n",
    "        SS = S[states]\n",
    "        \n",
    "        ou_like = pm.Normal.dist(mu=AS,sd=SS).logp(x)\n",
    "        return tt.sum(ou_like)\n"
   ]
  },
  {
   "cell_type": "code",
   "execution_count": null,
   "metadata": {
    "jupyter": {
     "outputs_hidden": false
    }
   },
   "outputs": [],
   "source": [
    "from scipy import optimize\n",
    "import theano\n",
    "\n",
    "theano.config.gcc.cxxflags = \"-Wno-c++11-narrowing\"\n",
    "\n",
    "with pm.Model() as model:\n",
    "    # N_states state model\n",
    "    #P = tt.stack( [pm.Dirichlet('P_'+str(i), a=np.ones(N_states)) for i in range(N_states)] )\n",
    "    \n",
    "    P = pm.Dirichlet('P', a=np.ones((N_states,N_states)), shape=(N_states,N_states))\n",
    "    A = pm.InverseGamma('A',alpha=alphaA, beta=betaA, shape=(N_states))\n",
    "    S = pm.InverseGamma('S', alpha=alphaS, beta=betaS, shape=(N_states))\n",
    "    \n",
    "#    Pfull = tt.dmatrix('Pfull')\n",
    "#    PA = tt.dmatrix('PA')\n",
    "    AA = tt.dmatrix('AA')\n",
    "        \n",
    "    AA = tt.eye(N_states) - P + tt.ones(shape=(N_states,N_states))\n",
    "    \n",
    "    PA = pm.Deterministic('PA',sla.solve(AA.T,tt.ones(shape=(N_states))))\n",
    "    \n",
    "    states = HMMStatesN('states',PA=PA, P=P, N_states=N_states, shape=(len(measurement)))\n",
    "    \n",
    "    emission = HMMGaussianEmissionsN('emmision', A=A, S=S, states=states, observed=measurement)"
   ]
  },
  {
   "cell_type": "code",
   "execution_count": null,
   "metadata": {},
   "outputs": [],
   "source": [
    "with model:    \n",
    "    trace = pm.sample(2000, cores=1)\n"
   ]
  },
  {
   "cell_type": "code",
   "execution_count": null,
   "metadata": {
    "jupyter": {
     "outputs_hidden": false
    }
   },
   "outputs": [],
   "source": [
    "%matplotlib inline\n",
    "pm.traceplot(trace)"
   ]
  },
  {
   "cell_type": "code",
   "execution_count": null,
   "metadata": {
    "jupyter": {
     "outputs_hidden": false
    }
   },
   "outputs": [],
   "source": [
    "pm.traceplot(trace[1500:])"
   ]
  },
  {
   "cell_type": "code",
   "execution_count": null,
   "metadata": {
    "jupyter": {
     "outputs_hidden": false
    }
   },
   "outputs": [],
   "source": [
    "sample_avg=np.average(trace['states'][1000:],axis=0)\n",
    "plt.plot(measurement[100:200])\n",
    "plt.plot(sample_avg[100:200])"
   ]
  },
  {
   "cell_type": "code",
   "execution_count": null,
   "metadata": {
    "jupyter": {
     "outputs_hidden": true
    }
   },
   "outputs": [],
   "source": []
  }
 ],
 "metadata": {
  "anaconda-cloud": {},
  "kernelspec": {
   "display_name": "bayesian-analysis-recipes",
   "language": "python",
   "name": "bayesian-analysis-recipes"
  },
  "language_info": {
   "codemirror_mode": {
    "name": "ipython",
    "version": 3
   },
   "file_extension": ".py",
   "mimetype": "text/x-python",
   "name": "python",
   "nbconvert_exporter": "python",
   "pygments_lexer": "ipython3",
   "version": "3.8.2"
  }
 },
 "nbformat": 4,
 "nbformat_minor": 4
}

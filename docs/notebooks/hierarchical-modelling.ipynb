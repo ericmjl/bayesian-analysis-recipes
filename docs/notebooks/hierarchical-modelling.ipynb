{
 "cells": [
  {
   "cell_type": "code",
   "execution_count": null,
   "metadata": {},
   "outputs": [],
   "source": [
    "import pymc3 as pm\n",
    "import numpy as np\n",
    "import matplotlib.pyplot as plt\n",
    "import pandas as pd\n",
    "\n",
    "%load_ext autoreload\n",
    "%autoreload 2\n",
    "%matplotlib inline\n",
    "%config InlineBackend.figure_format = 'retina'"
   ]
  },
  {
   "cell_type": "code",
   "execution_count": null,
   "metadata": {},
   "outputs": [],
   "source": [
    "import theano\n",
    "theano.config.compute_test_value = 'off'\n",
    "theano.config.compute_test_value"
   ]
  },
  {
   "cell_type": "markdown",
   "metadata": {},
   "source": [
    "# Introduction\n",
    "\n",
    "The purpose of this notebook is to show Bayesian hierarchical models.\n",
    "\n",
    "Hierarchical models are used in modelling things like baseball batting averages or housing prices. It's useful when we have some \"population\" parameter that we think influences an individual sample's parameter. Let's dive in to see how this works. "
   ]
  },
  {
   "cell_type": "code",
   "execution_count": null,
   "metadata": {},
   "outputs": [],
   "source": [
    "# def ecdf_scatter(data):\n",
    "#     x, y = np.sort(data), np.arange(1, len(data)+1) / len(data)\n",
    "#     return x, y\n",
    "\n",
    "# x1, y1 = ecdf_scatter(np.random.beta(1, 1, size=1000))\n",
    "# x2, y2 = ecdf_scatter(np.random.beta(2, 10, size=1000))\n",
    "# x3, y3 = ecdf_scatter(np.random.beta(46, 200, size=1000))\n",
    "\n",
    "# fig = plt.figure()\n",
    "# ax = fig.add_subplot(1,1,1)\n",
    "# ax.scatter(x1, y1, label=\"(1, 1)\")\n",
    "# ax.scatter(x2, y2, label=\"(2, 10)\")\n",
    "# ax.scatter(x3, y3, label=\"(46, 200)\")\n",
    "# ax.legend()"
   ]
  },
  {
   "cell_type": "markdown",
   "metadata": {},
   "source": [
    "We will use the baseball dataset from Efron & Morris. It's pretty famous, and can be downloaded from the PyMC3 website."
   ]
  },
  {
   "cell_type": "code",
   "execution_count": null,
   "metadata": {},
   "outputs": [],
   "source": [
    "data = pd.read_csv('datasets/baseball.tsv', sep='\\t')\n",
    "# data = pm.floatX(data)\n",
    "data.dtypes\n",
    "datacols = list(data.columns)\n",
    "datacols.remove('FirstName')\n",
    "datacols.remove('LastName')\n",
    "data[datacols] = pm.floatX(data[datacols])\n",
    "data.dtypes"
   ]
  },
  {
   "cell_type": "markdown",
   "metadata": {},
   "source": [
    "Given this population data, let's now say that we have a rookie player with just six at bats and all of them were hit. Is this a genius player to keep for the season? Bayesian statistics may help us get to an answer."
   ]
  },
  {
   "cell_type": "code",
   "execution_count": null,
   "metadata": {},
   "outputs": [],
   "source": [
    "# Firstly, we estimate the population batting average.\n",
    "with pm.Model() as baseball_model:\n",
    "    atbats = pm.floatX(data['SeasonAt-Bats'].values)\n",
    "    hits = pm.floatX(data['SeasonHits'].values)\n",
    "    \n",
    "    a = pm.Exponential('alpha_prior', \n",
    "                       lam=5) # testval=a_testval)\n",
    "    b = pm.Exponential('beta_prior', \n",
    "                       lam=5) #testval=b_testval)\n",
    "    p_population = pm.Beta('p_population', \n",
    "                           alpha=a, \n",
    "                           beta=b) # testval=p_testval)\n",
    "    likelihood = pm.Binomial('likelihood', \n",
    "                             n=atbats, \n",
    "                             p=p_population, \n",
    "                             observed=hits)\n",
    "    trace = pm.sample(2000)"
   ]
  },
  {
   "cell_type": "code",
   "execution_count": null,
   "metadata": {},
   "outputs": [],
   "source": [
    "with baseball_model:\n",
    "    pm.traceplot(trace, varnames=['p_population'])"
   ]
  },
  {
   "cell_type": "code",
   "execution_count": null,
   "metadata": {},
   "outputs": [],
   "source": [
    "with pm.Model() as new_player_model:\n",
    "    p_prior = "
   ]
  }
 ],
 "metadata": {
  "kernelspec": {
   "display_name": "bayesian",
   "language": "python",
   "name": "bayesian"
  },
  "language_info": {
   "codemirror_mode": {
    "name": "ipython",
    "version": 3
   },
   "file_extension": ".py",
   "mimetype": "text/x-python",
   "name": "python",
   "nbconvert_exporter": "python",
   "pygments_lexer": "ipython3",
   "version": "3.6.3"
  },
  "toc": {
   "colors": {
    "hover_highlight": "#DAA520",
    "navigate_num": "#000000",
    "navigate_text": "#333333",
    "running_highlight": "#FF0000",
    "selected_highlight": "#FFD700",
    "sidebar_border": "#EEEEEE",
    "wrapper_background": "#FFFFFF"
   },
   "moveMenuLeft": true,
   "nav_menu": {
    "height": "30px",
    "width": "252px"
   },
   "navigate_menu": true,
   "number_sections": true,
   "sideBar": true,
   "threshold": 4,
   "toc_cell": false,
   "toc_section_display": "block",
   "toc_window_display": false,
   "widenNotebook": false
  }
 },
 "nbformat": 4,
 "nbformat_minor": 2
}
